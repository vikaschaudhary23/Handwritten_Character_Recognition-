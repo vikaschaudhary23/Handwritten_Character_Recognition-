{
 "cells": [
  {
   "cell_type": "code",
   "execution_count": 1,
   "id": "72f26bf7",
   "metadata": {},
   "outputs": [],
   "source": [
    "#imported the required librabries\n",
    "import numpy as np\n",
    "import pandas as pd\n",
    "import matplotlib.pyplot as plt"
   ]
  },
  {
   "cell_type": "code",
   "execution_count": 3,
   "id": "3025480c",
   "metadata": {},
   "outputs": [
    {
     "ename": "SyntaxError",
     "evalue": "(unicode error) 'unicodeescape' codec can't decode bytes in position 2-3: truncated \\UXXXXXXXX escape (1473904243.py, line 2)",
     "output_type": "error",
     "traceback": [
      "\u001b[1;36m  File \u001b[1;32m\"C:\\Users\\chaud\\AppData\\Local\\Temp\\ipykernel_9840\\1473904243.py\"\u001b[1;36m, line \u001b[1;32m2\u001b[0m\n\u001b[1;33m    df = pd.read_csv('C:\\Users\\chaud\\jupyter files\\diabetes.csv')\u001b[0m\n\u001b[1;37m                                                                ^\u001b[0m\n\u001b[1;31mSyntaxError\u001b[0m\u001b[1;31m:\u001b[0m (unicode error) 'unicodeescape' codec can't decode bytes in position 2-3: truncated \\UXXXXXXXX escape\n"
     ]
    }
   ],
   "source": [
    "#reading dataset\n",
    "df = pd.read_csv('C:\\Users\\chaud\\jupyter files\\diabetes.csv')\n",
    "df.head(10)"
   ]
  },
  {
   "cell_type": "code",
   "execution_count": null,
   "id": "ac6af726",
   "metadata": {},
   "outputs": [],
   "source": [
    "#there are some columns in tthe database whose values can't be 0 so they are replaced by the mean of their respective column\n",
    "zero_values = ['Glucose', 'BloodPressure', 'SkinThickness', 'Insulin', 'BMI', 'DiabetesPedigreeFunction', 'Age']\n",
    "for column in zero_values:\n",
    "    df[column] = df[column].replace(0,np.NaN)\n",
    "    mean = int(df[column].mean(skipna=True))\n",
    "    df[column] = df[column].replace(np.NaN,mean)"
   ]
  },
  {
   "cell_type": "code",
   "execution_count": null,
   "id": "deed852f",
   "metadata": {},
   "outputs": [],
   "source": [
    "df.head()"
   ]
  },
  {
   "cell_type": "code",
   "execution_count": null,
   "id": "26b30609",
   "metadata": {},
   "outputs": [],
   "source": [
    "#checking null values in the datset\n",
    "df.isnull().sum()"
   ]
  },
  {
   "cell_type": "code",
   "execution_count": 31,
   "id": "bf6f9f48",
   "metadata": {},
   "outputs": [],
   "source": [
    "#selection outcome column fro prediciton whether a patient have diabetes or not\n",
    "x = df.drop('Outcome', axis=1)\n",
    "y = df['Outcome']"
   ]
  },
  {
   "cell_type": "code",
   "execution_count": 32,
   "id": "23cec3b2",
   "metadata": {},
   "outputs": [],
   "source": [
    "# importing module for dividing data in training and testing\n",
    "from sklearn.model_selection import train_test_split"
   ]
  },
  {
   "cell_type": "code",
   "execution_count": 33,
   "id": "8fa1fb94",
   "metadata": {},
   "outputs": [],
   "source": [
    "#dividing data in training and testing\n",
    "x_train, x_test, y_train, y_test = train_test_split(x, y, test_size=0.3, random_state=0)"
   ]
  },
  {
   "cell_type": "code",
   "execution_count": 34,
   "id": "867e40eb",
   "metadata": {},
   "outputs": [],
   "source": [
    "#importing best fitted module for the dataset\n",
    "from sklearn.linear_model import LogisticRegression\n",
    "from sklearn.metrics import accuracy_score"
   ]
  },
  {
   "cell_type": "code",
   "execution_count": 35,
   "id": "b8723e81",
   "metadata": {},
   "outputs": [
    {
     "data": {
      "text/plain": [
       "LogisticRegression(max_iter=420)"
      ]
     },
     "execution_count": 35,
     "metadata": {},
     "output_type": "execute_result"
    }
   ],
   "source": [
    "#trainig the model with training data\n",
    "model = LogisticRegression(max_iter=420)\n",
    "model.fit(x_train, y_train)"
   ]
  },
  {
   "cell_type": "code",
   "execution_count": 36,
   "id": "3f51a52a",
   "metadata": {},
   "outputs": [],
   "source": [
    "#calculating predicted value\n",
    "y_pred = model.predict(x_test)"
   ]
  },
  {
   "cell_type": "code",
   "execution_count": 37,
   "id": "83c800f2",
   "metadata": {},
   "outputs": [],
   "source": [
    "#import modules to check the accuracy score of the model and make the confusion matrix\n",
    "from sklearn.metrics import confusion_matrix, accuracy_score"
   ]
  },
  {
   "cell_type": "code",
   "execution_count": 38,
   "id": "f69a17f1",
   "metadata": {},
   "outputs": [
    {
     "data": {
      "text/plain": [
       "0.7619047619047619"
      ]
     },
     "execution_count": 38,
     "metadata": {},
     "output_type": "execute_result"
    }
   ],
   "source": [
    "accuracy_score(y_test, y_pred)"
   ]
  },
  {
   "cell_type": "code",
   "execution_count": 39,
   "id": "29601e92",
   "metadata": {},
   "outputs": [
    {
     "data": {
      "text/plain": [
       "array([[140,  17],\n",
       "       [ 38,  36]], dtype=int64)"
      ]
     },
     "execution_count": 39,
     "metadata": {},
     "output_type": "execute_result"
    }
   ],
   "source": [
    "confusion_matrix(y_test, y_pred)"
   ]
  },
  {
   "cell_type": "code",
   "execution_count": 40,
   "id": "3e8d8fbb",
   "metadata": {},
   "outputs": [],
   "source": [
    "# importing Random Forest Classifier for to improve the accuracy of the model\n",
    "from sklearn.ensemble import RandomForestClassifier"
   ]
  },
  {
   "cell_type": "code",
   "execution_count": 41,
   "id": "412069d3",
   "metadata": {},
   "outputs": [
    {
     "data": {
      "text/plain": [
       "RandomForestClassifier(n_estimators=50, random_state=0)"
      ]
     },
     "execution_count": 41,
     "metadata": {},
     "output_type": "execute_result"
    }
   ],
   "source": [
    "#training the data with random forest classifier\n",
    "random_forest = RandomForestClassifier(n_estimators=50, random_state=0)\n",
    "random_forest.fit(x_train, y_train)"
   ]
  },
  {
   "cell_type": "code",
   "execution_count": 42,
   "id": "c8b610fc",
   "metadata": {},
   "outputs": [
    {
     "name": "stdout",
     "output_type": "stream",
     "text": [
      "Random Forest Classifier accuracy on the training data :  1.0\n",
      "Random Forest Classifier accuracy on the testing data :  0.7705627705627706\n"
     ]
    }
   ],
   "source": [
    "#printing the accuracy score of training and testing data after applying random forest classifier\n",
    "print(\"Random Forest Classifier accuracy on the training data : \",random_forest.score(x_train,y_train))\n",
    "print(\"Random Forest Classifier accuracy on the testing data : \",random_forest.score(x_test, y_test))"
   ]
  },
  {
   "cell_type": "code",
   "execution_count": 43,
   "id": "e6407707",
   "metadata": {},
   "outputs": [
    {
     "data": {
      "text/plain": [
       "DecisionTreeClassifier(max_depth=3, min_samples_leaf=3, random_state=42)"
      ]
     },
     "execution_count": 43,
     "metadata": {},
     "output_type": "execute_result"
    }
   ],
   "source": [
    "#applying decision tree classifier using gini index\n",
    "from sklearn.tree import DecisionTreeClassifier\n",
    "dg_tree = DecisionTreeClassifier(criterion='gini', random_state=42, max_depth=3,min_samples_leaf=3)\n",
    "dg_tree.fit(x_train, y_train)"
   ]
  },
  {
   "cell_type": "code",
   "execution_count": 45,
   "id": "de1cda8f",
   "metadata": {},
   "outputs": [
    {
     "data": {
      "text/plain": [
       "0.7316017316017316"
      ]
     },
     "execution_count": 45,
     "metadata": {},
     "output_type": "execute_result"
    }
   ],
   "source": [
    "#predicting accuracy score of decision tree using gini index\n",
    "y_dg_predicted = dg_tree.predict(x_test)\n",
    "accuracy_score(y_dg_predicted, y_test)"
   ]
  },
  {
   "cell_type": "code",
   "execution_count": 46,
   "id": "63274d5b",
   "metadata": {},
   "outputs": [
    {
     "data": {
      "text/plain": [
       "DecisionTreeClassifier(criterion='entropy', max_depth=3, min_samples_leaf=3,\n",
       "                       random_state=42)"
      ]
     },
     "execution_count": 46,
     "metadata": {},
     "output_type": "execute_result"
    }
   ],
   "source": [
    "#applying decision tree classifier using entropy\n",
    "de_tree = DecisionTreeClassifier(criterion='entropy', random_state=42, max_depth=3,min_samples_leaf=3)\n",
    "de_tree.fit(x_train, y_train)"
   ]
  },
  {
   "cell_type": "code",
   "execution_count": 47,
   "id": "24880830",
   "metadata": {},
   "outputs": [
    {
     "data": {
      "text/plain": [
       "0.7316017316017316"
      ]
     },
     "execution_count": 47,
     "metadata": {},
     "output_type": "execute_result"
    }
   ],
   "source": [
    "#predicting accuracy score of decision tree using entropy\n",
    "y_de_predicted = de_tree.predict(x_test)\n",
    "accuracy_score(y_de_predicted, y_test)"
   ]
  },
  {
   "cell_type": "code",
   "execution_count": 49,
   "id": "f49afbb4",
   "metadata": {},
   "outputs": [
    {
     "data": {
      "text/html": [
       "<div>\n",
       "<style scoped>\n",
       "    .dataframe tbody tr th:only-of-type {\n",
       "        vertical-align: middle;\n",
       "    }\n",
       "\n",
       "    .dataframe tbody tr th {\n",
       "        vertical-align: top;\n",
       "    }\n",
       "\n",
       "    .dataframe thead th {\n",
       "        text-align: right;\n",
       "    }\n",
       "</style>\n",
       "<table border=\"1\" class=\"dataframe\">\n",
       "  <thead>\n",
       "    <tr style=\"text-align: right;\">\n",
       "      <th></th>\n",
       "      <th>Pregnancies</th>\n",
       "      <th>Glucose</th>\n",
       "      <th>BloodPressure</th>\n",
       "      <th>SkinThickness</th>\n",
       "      <th>Insulin</th>\n",
       "      <th>BMI</th>\n",
       "      <th>DiabetesPedigreeFunction</th>\n",
       "      <th>Age</th>\n",
       "      <th>Outcome</th>\n",
       "    </tr>\n",
       "  </thead>\n",
       "  <tbody>\n",
       "    <tr>\n",
       "      <th>0</th>\n",
       "      <td>0.025354</td>\n",
       "      <td>0.625390</td>\n",
       "      <td>0.304244</td>\n",
       "      <td>0.147896</td>\n",
       "      <td>0.654969</td>\n",
       "      <td>0.141980</td>\n",
       "      <td>0.002649</td>\n",
       "      <td>0.211280</td>\n",
       "      <td>0.004226</td>\n",
       "    </tr>\n",
       "    <tr>\n",
       "      <th>1</th>\n",
       "      <td>0.005122</td>\n",
       "      <td>0.435373</td>\n",
       "      <td>0.338054</td>\n",
       "      <td>0.148539</td>\n",
       "      <td>0.793915</td>\n",
       "      <td>0.136246</td>\n",
       "      <td>0.001798</td>\n",
       "      <td>0.158783</td>\n",
       "      <td>0.000000</td>\n",
       "    </tr>\n",
       "    <tr>\n",
       "      <th>2</th>\n",
       "      <td>0.031602</td>\n",
       "      <td>0.722900</td>\n",
       "      <td>0.252818</td>\n",
       "      <td>0.114558</td>\n",
       "      <td>0.612293</td>\n",
       "      <td>0.092041</td>\n",
       "      <td>0.002655</td>\n",
       "      <td>0.126409</td>\n",
       "      <td>0.003950</td>\n",
       "    </tr>\n",
       "    <tr>\n",
       "      <th>3</th>\n",
       "      <td>0.006612</td>\n",
       "      <td>0.588467</td>\n",
       "      <td>0.436392</td>\n",
       "      <td>0.152076</td>\n",
       "      <td>0.621527</td>\n",
       "      <td>0.185797</td>\n",
       "      <td>0.001104</td>\n",
       "      <td>0.138852</td>\n",
       "      <td>0.000000</td>\n",
       "    </tr>\n",
       "    <tr>\n",
       "      <th>4</th>\n",
       "      <td>0.000000</td>\n",
       "      <td>0.596381</td>\n",
       "      <td>0.174126</td>\n",
       "      <td>0.152360</td>\n",
       "      <td>0.731328</td>\n",
       "      <td>0.187620</td>\n",
       "      <td>0.009960</td>\n",
       "      <td>0.143654</td>\n",
       "      <td>0.004353</td>\n",
       "    </tr>\n",
       "  </tbody>\n",
       "</table>\n",
       "</div>"
      ],
      "text/plain": [
       "   Pregnancies   Glucose  BloodPressure  SkinThickness   Insulin       BMI  \\\n",
       "0     0.025354  0.625390       0.304244       0.147896  0.654969  0.141980   \n",
       "1     0.005122  0.435373       0.338054       0.148539  0.793915  0.136246   \n",
       "2     0.031602  0.722900       0.252818       0.114558  0.612293  0.092041   \n",
       "3     0.006612  0.588467       0.436392       0.152076  0.621527  0.185797   \n",
       "4     0.000000  0.596381       0.174126       0.152360  0.731328  0.187620   \n",
       "\n",
       "   DiabetesPedigreeFunction       Age   Outcome  \n",
       "0                  0.002649  0.211280  0.004226  \n",
       "1                  0.001798  0.158783  0.000000  \n",
       "2                  0.002655  0.126409  0.003950  \n",
       "3                  0.001104  0.138852  0.000000  \n",
       "4                  0.009960  0.143654  0.004353  "
      ]
     },
     "execution_count": 49,
     "metadata": {},
     "output_type": "execute_result"
    }
   ],
   "source": [
    "#normalizing the data\n",
    "from sklearn.preprocessing import normalize\n",
    "norm_data = normalize(df)\n",
    "norm_data = pd.DataFrame(norm_data, columns = df.columns)\n",
    "norm_data.head()"
   ]
  },
  {
   "cell_type": "code",
   "execution_count": 53,
   "id": "f358ceee",
   "metadata": {},
   "outputs": [
    {
     "data": {
      "image/png": "[encoded data removed]",
      "text/plain": [
       "<Figure size 432x288 with 1 Axes>"
      ]
     },
     "metadata": {
      "needs_background": "light"
     },
     "output_type": "display_data"
    }
   ],
   "source": [
    "# #importing module for clustering ans plotting dendrogram\n",
    "# import scipy.cluster.hierarchy as shc\n",
    "# plt.plot(figsize=(10,10))\n",
    "# plt.title(\"Dendrogram\")\n",
    "# dend = shc.dendrogram(shc.linkage(norm_data, method='ward'))"
   ]
  },
  {
   "cell_type": "code",
   "execution_count": 55,
   "id": "6bdfcd16",
   "metadata": {},
   "outputs": [
    {
     "data": {
      "text/plain": [
       "<matplotlib.lines.Line2D at 0x1a68d9bb7f0>"
      ]
     },
     "execution_count": 55,
     "metadata": {},
     "output_type": "execute_result"
    },
    {
     "data": {
      "image/png": "[encoded data removed]",
      "text/plain": [
       "<Figure size 720x504 with 1 Axes>"
      ]
     },
     "metadata": {
      "needs_background": "light"
     },
     "output_type": "display_data"
    }
   ],
   "source": [
    "# plt.figure(figsize=(10,7))\n",
    "# plt.title(\"Dendrogram\")\n",
    "# dend = shc.dendrogram(shc.linkage(norm_data, method='ward')) \n",
    "# plt.axhline(y=4,color='y', linestyle='--')"
   ]
  },
  {
   "cell_type": "code",
   "execution_count": null,
   "id": "d59e9fe3",
   "metadata": {},
   "outputs": [],
   "source": []
  }
 ],
 "metadata": {
  "kernelspec": {
   "display_name": "Python 3 (ipykernel)",
   "language": "python",
   "name": "python3"
  },
  "language_info": {
   "codemirror_mode": {
    "name": "ipython",
    "version": 3
   },
   "file_extension": ".py",
   "mimetype": "text/x-python",
   "name": "python",
   "nbconvert_exporter": "python",
   "pygments_lexer": "ipython3",
   "version": "3.9.13"
  },
  "vscode": {
   "interpreter": {
    "hash": "19f390a82d96c8bbc426ec0cf55738c766ea11b19fe2a80c471a04e24f40dd17"
   }
  }
 },
 "nbformat": 4,
 "nbformat_minor": 5
}
